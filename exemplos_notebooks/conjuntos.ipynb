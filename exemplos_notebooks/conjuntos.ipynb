{
 "cells": [
  {
   "cell_type": "code",
   "execution_count": 1,
   "id": "ef538873",
   "metadata": {},
   "outputs": [],
   "source": [
    "# set (conjunto) --> coleção de elementos distintos"
   ]
  },
  {
   "cell_type": "code",
   "execution_count": 2,
   "id": "09bf0a19",
   "metadata": {},
   "outputs": [],
   "source": [
    "primes_bellow_10 = {2, 3, 5, 7}"
   ]
  },
  {
   "cell_type": "code",
   "execution_count": 3,
   "id": "84198258",
   "metadata": {},
   "outputs": [
    {
     "data": {
      "text/plain": [
       "{2, 3, 5, 7}"
      ]
     },
     "execution_count": 3,
     "metadata": {},
     "output_type": "execute_result"
    }
   ],
   "source": [
    "primes_bellow_10"
   ]
  },
  {
   "cell_type": "code",
   "execution_count": 4,
   "id": "27e48c27",
   "metadata": {},
   "outputs": [],
   "source": [
    "# { } não funciona em conjuntos vazios"
   ]
  },
  {
   "cell_type": "code",
   "execution_count": 5,
   "id": "93f4f693",
   "metadata": {},
   "outputs": [],
   "source": [
    "s = set()"
   ]
  },
  {
   "cell_type": "code",
   "execution_count": 6,
   "id": "5f4ca0db",
   "metadata": {},
   "outputs": [
    {
     "data": {
      "text/plain": [
       "set()"
      ]
     },
     "execution_count": 6,
     "metadata": {},
     "output_type": "execute_result"
    }
   ],
   "source": [
    "s"
   ]
  },
  {
   "cell_type": "code",
   "execution_count": 7,
   "id": "00d67b5c",
   "metadata": {},
   "outputs": [],
   "source": [
    "s.add(1)"
   ]
  },
  {
   "cell_type": "code",
   "execution_count": 8,
   "id": "495e95fe",
   "metadata": {},
   "outputs": [
    {
     "data": {
      "text/plain": [
       "{1}"
      ]
     },
     "execution_count": 8,
     "metadata": {},
     "output_type": "execute_result"
    }
   ],
   "source": [
    "s"
   ]
  },
  {
   "cell_type": "code",
   "execution_count": 9,
   "id": "464211ed",
   "metadata": {},
   "outputs": [],
   "source": [
    "s.add(2)"
   ]
  },
  {
   "cell_type": "code",
   "execution_count": 10,
   "id": "57824279",
   "metadata": {},
   "outputs": [
    {
     "data": {
      "text/plain": [
       "{1, 2}"
      ]
     },
     "execution_count": 10,
     "metadata": {},
     "output_type": "execute_result"
    }
   ],
   "source": [
    "s"
   ]
  },
  {
   "cell_type": "code",
   "execution_count": 11,
   "id": "56b0b115",
   "metadata": {},
   "outputs": [],
   "source": [
    "x = len(s)"
   ]
  },
  {
   "cell_type": "code",
   "execution_count": 12,
   "id": "74b381e7",
   "metadata": {},
   "outputs": [
    {
     "data": {
      "text/plain": [
       "2"
      ]
     },
     "execution_count": 12,
     "metadata": {},
     "output_type": "execute_result"
    }
   ],
   "source": [
    "x"
   ]
  },
  {
   "cell_type": "code",
   "execution_count": 13,
   "id": "86e77651",
   "metadata": {},
   "outputs": [],
   "source": [
    "y = 2 in s"
   ]
  },
  {
   "cell_type": "code",
   "execution_count": 14,
   "id": "f6dcb388",
   "metadata": {},
   "outputs": [
    {
     "data": {
      "text/plain": [
       "True"
      ]
     },
     "execution_count": 14,
     "metadata": {},
     "output_type": "execute_result"
    }
   ],
   "source": [
    "y"
   ]
  },
  {
   "cell_type": "code",
   "execution_count": 15,
   "id": "1219204e",
   "metadata": {},
   "outputs": [],
   "source": [
    "z = 3 in s"
   ]
  },
  {
   "cell_type": "code",
   "execution_count": 16,
   "id": "70387448",
   "metadata": {},
   "outputs": [
    {
     "data": {
      "text/plain": [
       "False"
      ]
     },
     "execution_count": 16,
     "metadata": {},
     "output_type": "execute_result"
    }
   ],
   "source": [
    "z"
   ]
  },
  {
   "cell_type": "code",
   "execution_count": 17,
   "id": "0f7a2455",
   "metadata": {},
   "outputs": [],
   "source": [
    "stopwords_list = ['a', 'an', 'at'] + ['yet', 'you']"
   ]
  },
  {
   "cell_type": "code",
   "execution_count": 18,
   "id": "4ebb5276",
   "metadata": {},
   "outputs": [
    {
     "data": {
      "text/plain": [
       "['a', 'an', 'at', 'yet', 'you']"
      ]
     },
     "execution_count": 18,
     "metadata": {},
     "output_type": "execute_result"
    }
   ],
   "source": [
    "stopwords_list"
   ]
  },
  {
   "cell_type": "code",
   "execution_count": 19,
   "id": "693600b9",
   "metadata": {},
   "outputs": [
    {
     "data": {
      "text/plain": [
       "False"
      ]
     },
     "execution_count": 19,
     "metadata": {},
     "output_type": "execute_result"
    }
   ],
   "source": [
    "'zip' in stopwords_list"
   ]
  },
  {
   "cell_type": "code",
   "execution_count": 20,
   "id": "4c5fdc64",
   "metadata": {},
   "outputs": [],
   "source": [
    "stopwords_set = set(stopwords_list)"
   ]
  },
  {
   "cell_type": "code",
   "execution_count": 21,
   "id": "04e24bb1",
   "metadata": {},
   "outputs": [
    {
     "data": {
      "text/plain": [
       "False"
      ]
     },
     "execution_count": 21,
     "metadata": {},
     "output_type": "execute_result"
    }
   ],
   "source": [
    "'zip' in stopwords_set"
   ]
  },
  {
   "cell_type": "code",
   "execution_count": 22,
   "id": "b6d27e4e",
   "metadata": {},
   "outputs": [],
   "source": [
    "item_list = [1, 2, 3, 1, 2, 3]"
   ]
  },
  {
   "cell_type": "code",
   "execution_count": 23,
   "id": "81935482",
   "metadata": {},
   "outputs": [],
   "source": [
    "num_items = len(item_list)"
   ]
  },
  {
   "cell_type": "code",
   "execution_count": 24,
   "id": "cadbb5e6",
   "metadata": {},
   "outputs": [
    {
     "data": {
      "text/plain": [
       "6"
      ]
     },
     "execution_count": 24,
     "metadata": {},
     "output_type": "execute_result"
    }
   ],
   "source": [
    "num_items"
   ]
  },
  {
   "cell_type": "code",
   "execution_count": 25,
   "id": "07cf16a0",
   "metadata": {},
   "outputs": [],
   "source": [
    "item_set = set(item_list)"
   ]
  },
  {
   "cell_type": "code",
   "execution_count": 26,
   "id": "f2702920",
   "metadata": {},
   "outputs": [
    {
     "data": {
      "text/plain": [
       "{1, 2, 3}"
      ]
     },
     "execution_count": 26,
     "metadata": {},
     "output_type": "execute_result"
    }
   ],
   "source": [
    "item_set"
   ]
  },
  {
   "cell_type": "code",
   "execution_count": 27,
   "id": "ed6ffdcf",
   "metadata": {},
   "outputs": [],
   "source": [
    "num_distinct_items = len(item_set)"
   ]
  },
  {
   "cell_type": "code",
   "execution_count": 28,
   "id": "2510d799",
   "metadata": {},
   "outputs": [
    {
     "data": {
      "text/plain": [
       "3"
      ]
     },
     "execution_count": 28,
     "metadata": {},
     "output_type": "execute_result"
    }
   ],
   "source": [
    "num_distinct_items"
   ]
  },
  {
   "cell_type": "code",
   "execution_count": 29,
   "id": "81fe14b2",
   "metadata": {},
   "outputs": [],
   "source": [
    "distinct_item_list = list(item_set)"
   ]
  },
  {
   "cell_type": "code",
   "execution_count": 30,
   "id": "5b7680cb",
   "metadata": {},
   "outputs": [
    {
     "data": {
      "text/plain": [
       "[1, 2, 3]"
      ]
     },
     "execution_count": 30,
     "metadata": {},
     "output_type": "execute_result"
    }
   ],
   "source": [
    "distinct_item_list"
   ]
  },
  {
   "cell_type": "code",
   "execution_count": null,
   "id": "2f60d655",
   "metadata": {},
   "outputs": [],
   "source": []
  }
 ],
 "metadata": {
  "kernelspec": {
   "display_name": "Python 3 (ipykernel)",
   "language": "python",
   "name": "python3"
  },
  "language_info": {
   "codemirror_mode": {
    "name": "ipython",
    "version": 3
   },
   "file_extension": ".py",
   "mimetype": "text/x-python",
   "name": "python",
   "nbconvert_exporter": "python",
   "pygments_lexer": "ipython3",
   "version": "3.10.6"
  }
 },
 "nbformat": 4,
 "nbformat_minor": 5
}
