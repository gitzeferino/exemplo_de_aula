{
 "cells": [
  {
   "cell_type": "code",
   "execution_count": 1,
   "id": "58931a85",
   "metadata": {},
   "outputs": [],
   "source": [
    "my_list = [1, 2]"
   ]
  },
  {
   "cell_type": "code",
   "execution_count": 2,
   "id": "28121fba",
   "metadata": {},
   "outputs": [
    {
     "data": {
      "text/plain": [
       "[1, 2]"
      ]
     },
     "execution_count": 2,
     "metadata": {},
     "output_type": "execute_result"
    }
   ],
   "source": [
    "my_list"
   ]
  },
  {
   "cell_type": "code",
   "execution_count": 3,
   "id": "a4abebcf",
   "metadata": {},
   "outputs": [],
   "source": [
    "my_tuple = (1, 2)"
   ]
  },
  {
   "cell_type": "code",
   "execution_count": 4,
   "id": "2f49b30c",
   "metadata": {},
   "outputs": [
    {
     "data": {
      "text/plain": [
       "(1, 2)"
      ]
     },
     "execution_count": 4,
     "metadata": {},
     "output_type": "execute_result"
    }
   ],
   "source": [
    "my_tuple"
   ]
  },
  {
   "cell_type": "code",
   "execution_count": 5,
   "id": "5e078216",
   "metadata": {},
   "outputs": [],
   "source": [
    "other_tuple = 1, 2"
   ]
  },
  {
   "cell_type": "code",
   "execution_count": 6,
   "id": "351bd048",
   "metadata": {},
   "outputs": [
    {
     "data": {
      "text/plain": [
       "(1, 2)"
      ]
     },
     "execution_count": 6,
     "metadata": {},
     "output_type": "execute_result"
    }
   ],
   "source": [
    "other_tuple"
   ]
  },
  {
   "cell_type": "code",
   "execution_count": 7,
   "id": "45264ade",
   "metadata": {},
   "outputs": [
    {
     "data": {
      "text/plain": [
       "tuple"
      ]
     },
     "execution_count": 7,
     "metadata": {},
     "output_type": "execute_result"
    }
   ],
   "source": [
    "type(other_tuple)"
   ]
  },
  {
   "cell_type": "code",
   "execution_count": 8,
   "id": "cb80b6ef",
   "metadata": {},
   "outputs": [
    {
     "name": "stdout",
     "output_type": "stream",
     "text": [
      "Não é possível modificar tuplas!\n"
     ]
    }
   ],
   "source": [
    "try:\n",
    "    my_tuple[1] = 3\n",
    "except TypeError:\n",
    "    print(\"Não é possível modificar tuplas!\")"
   ]
  },
  {
   "cell_type": "code",
   "execution_count": 9,
   "id": "21be0621",
   "metadata": {},
   "outputs": [],
   "source": [
    "def sum_and_product(x, y):\n",
    "    return (x + y), (x * y)"
   ]
  },
  {
   "cell_type": "code",
   "execution_count": 10,
   "id": "aaa40add",
   "metadata": {},
   "outputs": [],
   "source": [
    "sp = sum_and_product(2, 3) # sp é 5 e 6"
   ]
  },
  {
   "cell_type": "code",
   "execution_count": 11,
   "id": "df8c7f6b",
   "metadata": {},
   "outputs": [
    {
     "data": {
      "text/plain": [
       "(5, 6)"
      ]
     },
     "execution_count": 11,
     "metadata": {},
     "output_type": "execute_result"
    }
   ],
   "source": [
    "sp"
   ]
  },
  {
   "cell_type": "code",
   "execution_count": 12,
   "id": "c0aab893",
   "metadata": {},
   "outputs": [],
   "source": [
    "s, p = sum_and_product(5, 10) # s é 15  e p é 50"
   ]
  },
  {
   "cell_type": "code",
   "execution_count": 13,
   "id": "dda76ce8",
   "metadata": {},
   "outputs": [
    {
     "data": {
      "text/plain": [
       "(15, 50)"
      ]
     },
     "execution_count": 13,
     "metadata": {},
     "output_type": "execute_result"
    }
   ],
   "source": [
    "s, p"
   ]
  },
  {
   "cell_type": "code",
   "execution_count": 14,
   "id": "372efbba",
   "metadata": {},
   "outputs": [],
   "source": [
    "x, y = 1, 2 # agora x é 1 e y é 2"
   ]
  },
  {
   "cell_type": "code",
   "execution_count": 15,
   "id": "96f05b82",
   "metadata": {},
   "outputs": [
    {
     "data": {
      "text/plain": [
       "(1, 2)"
      ]
     },
     "execution_count": 15,
     "metadata": {},
     "output_type": "execute_result"
    }
   ],
   "source": [
    "x, y"
   ]
  },
  {
   "cell_type": "code",
   "execution_count": 16,
   "id": "faa695ed",
   "metadata": {},
   "outputs": [],
   "source": [
    "x, y = y, x # forma Pythonic de trocar variaveis, agora x é 2 e y é 1"
   ]
  },
  {
   "cell_type": "code",
   "execution_count": 17,
   "id": "2840c367",
   "metadata": {},
   "outputs": [
    {
     "data": {
      "text/plain": [
       "(2, 1)"
      ]
     },
     "execution_count": 17,
     "metadata": {},
     "output_type": "execute_result"
    }
   ],
   "source": [
    "x, y"
   ]
  },
  {
   "cell_type": "code",
   "execution_count": null,
   "id": "7913919d",
   "metadata": {},
   "outputs": [],
   "source": []
  }
 ],
 "metadata": {
  "kernelspec": {
   "display_name": "Python 3 (ipykernel)",
   "language": "python",
   "name": "python3"
  },
  "language_info": {
   "codemirror_mode": {
    "name": "ipython",
    "version": 3
   },
   "file_extension": ".py",
   "mimetype": "text/x-python",
   "name": "python",
   "nbconvert_exporter": "python",
   "pygments_lexer": "ipython3",
   "version": "3.9.12"
  }
 },
 "nbformat": 4,
 "nbformat_minor": 5
}
