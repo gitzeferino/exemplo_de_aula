{
 "cells": [
  {
   "cell_type": "code",
   "execution_count": 1,
   "id": "d7b04241",
   "metadata": {},
   "outputs": [],
   "source": [
    "def double(x):\n",
    "    return x * 2"
   ]
  },
  {
   "cell_type": "code",
   "execution_count": 2,
   "id": "886dd3db",
   "metadata": {},
   "outputs": [
    {
     "data": {
      "text/plain": [
       "8"
      ]
     },
     "execution_count": 2,
     "metadata": {},
     "output_type": "execute_result"
    }
   ],
   "source": [
    "double(4)"
   ]
  },
  {
   "cell_type": "code",
   "execution_count": 3,
   "id": "083bc0bb",
   "metadata": {},
   "outputs": [],
   "source": [
    "def apply_to_one(f):\n",
    "    \"\"\"Chama a função f usando 1 como argumento\"\"\"\n",
    "    return f(1)\n",
    "\n",
    "my_double = double # refere-se a função x já definida\n",
    "x = apply_to_one(my_double) # igual a 2"
   ]
  },
  {
   "cell_type": "code",
   "execution_count": 4,
   "id": "f9b55b14",
   "metadata": {},
   "outputs": [
    {
     "data": {
      "text/plain": [
       "2"
      ]
     },
     "execution_count": 4,
     "metadata": {},
     "output_type": "execute_result"
    }
   ],
   "source": [
    "x"
   ]
  },
  {
   "cell_type": "code",
   "execution_count": 5,
   "id": "3d477316",
   "metadata": {},
   "outputs": [],
   "source": [
    "# função anônima labda\n",
    "y = apply_to_one(lambda x: x + 4) # igual a 5"
   ]
  },
  {
   "cell_type": "code",
   "execution_count": 6,
   "id": "ce9dab55",
   "metadata": {},
   "outputs": [
    {
     "data": {
      "text/plain": [
       "5"
      ]
     },
     "execution_count": 6,
     "metadata": {},
     "output_type": "execute_result"
    }
   ],
   "source": [
    "y"
   ]
  },
  {
   "cell_type": "code",
   "execution_count": 7,
   "id": "9e937ae4",
   "metadata": {},
   "outputs": [],
   "source": [
    "# argumentos na função\n",
    "def my_print(message = 'minha mensagem'):\n",
    "    print(message)"
   ]
  },
  {
   "cell_type": "code",
   "execution_count": 8,
   "id": "ab3b20a3",
   "metadata": {},
   "outputs": [
    {
     "data": {
      "text/plain": [
       "<function __main__.my_print(message='minha mensagem')>"
      ]
     },
     "execution_count": 8,
     "metadata": {},
     "output_type": "execute_result"
    }
   ],
   "source": [
    "my_print"
   ]
  },
  {
   "cell_type": "code",
   "execution_count": 9,
   "id": "dad67def",
   "metadata": {},
   "outputs": [
    {
     "name": "stdout",
     "output_type": "stream",
     "text": [
      "hello\n"
     ]
    }
   ],
   "source": [
    "my_print('hello') # imprime hello"
   ]
  },
  {
   "cell_type": "code",
   "execution_count": 10,
   "id": "6f94917c",
   "metadata": {},
   "outputs": [
    {
     "name": "stdout",
     "output_type": "stream",
     "text": [
      "minha mensagem\n"
     ]
    }
   ],
   "source": [
    "my_print() # imprime a mensagem padrão"
   ]
  },
  {
   "cell_type": "code",
   "execution_count": null,
   "id": "07a14a83",
   "metadata": {},
   "outputs": [],
   "source": []
  }
 ],
 "metadata": {
  "kernelspec": {
   "display_name": "Python 3 (ipykernel)",
   "language": "python",
   "name": "python3"
  },
  "language_info": {
   "codemirror_mode": {
    "name": "ipython",
    "version": 3
   },
   "file_extension": ".py",
   "mimetype": "text/x-python",
   "name": "python",
   "nbconvert_exporter": "python",
   "pygments_lexer": "ipython3",
   "version": "3.10.6"
  }
 },
 "nbformat": 4,
 "nbformat_minor": 5
}
