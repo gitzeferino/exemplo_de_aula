{
 "cells": [
  {
   "cell_type": "code",
   "execution_count": 1,
   "id": "3738fea7",
   "metadata": {},
   "outputs": [],
   "source": [
    "integer_list = [1, 2, 3]\n",
    "heterogeneous_list = [\"string\", 0.1, True]\n",
    "list_of_lists = [integer_list, heterogeneous_list, []]"
   ]
  },
  {
   "cell_type": "code",
   "execution_count": 2,
   "id": "65bd5e75",
   "metadata": {},
   "outputs": [],
   "source": [
    "list_leght = len(integer_list) # igual a 3"
   ]
  },
  {
   "cell_type": "code",
   "execution_count": 3,
   "id": "fb91c74f",
   "metadata": {},
   "outputs": [
    {
     "data": {
      "text/plain": [
       "3"
      ]
     },
     "execution_count": 3,
     "metadata": {},
     "output_type": "execute_result"
    }
   ],
   "source": [
    "list_leght"
   ]
  },
  {
   "cell_type": "code",
   "execution_count": 4,
   "id": "f4feb431",
   "metadata": {},
   "outputs": [],
   "source": [
    "list_sum = sum(integer_list) # igual a 6"
   ]
  },
  {
   "cell_type": "code",
   "execution_count": 5,
   "id": "9add8d50",
   "metadata": {},
   "outputs": [
    {
     "data": {
      "text/plain": [
       "6"
      ]
     },
     "execution_count": 5,
     "metadata": {},
     "output_type": "execute_result"
    }
   ],
   "source": [
    "list_sum"
   ]
  },
  {
   "cell_type": "code",
   "execution_count": 6,
   "id": "037e3636",
   "metadata": {},
   "outputs": [],
   "source": [
    "x = [0, 1, 2, 3, 4, 5, 6, 7, 8, 9]"
   ]
  },
  {
   "cell_type": "code",
   "execution_count": 7,
   "id": "f1873d67",
   "metadata": {},
   "outputs": [],
   "source": [
    "zero = x[0] # igual a 0, as listas são indexadas a partir de 0 "
   ]
  },
  {
   "cell_type": "code",
   "execution_count": 8,
   "id": "044c8b0f",
   "metadata": {},
   "outputs": [
    {
     "data": {
      "text/plain": [
       "0"
      ]
     },
     "execution_count": 8,
     "metadata": {},
     "output_type": "execute_result"
    }
   ],
   "source": [
    "zero"
   ]
  },
  {
   "cell_type": "code",
   "execution_count": 9,
   "id": "c8fd246f",
   "metadata": {},
   "outputs": [],
   "source": [
    "one = x[1] # igual a 1"
   ]
  },
  {
   "cell_type": "code",
   "execution_count": 10,
   "id": "93e67cf5",
   "metadata": {},
   "outputs": [
    {
     "data": {
      "text/plain": [
       "1"
      ]
     },
     "execution_count": 10,
     "metadata": {},
     "output_type": "execute_result"
    }
   ],
   "source": [
    "one"
   ]
  },
  {
   "cell_type": "code",
   "execution_count": 11,
   "id": "d818871a",
   "metadata": {},
   "outputs": [],
   "source": [
    "nine = x[-1] # igual a 9 'Pythonic', último elemento"
   ]
  },
  {
   "cell_type": "code",
   "execution_count": 12,
   "id": "fe78c56f",
   "metadata": {},
   "outputs": [
    {
     "data": {
      "text/plain": [
       "9"
      ]
     },
     "execution_count": 12,
     "metadata": {},
     "output_type": "execute_result"
    }
   ],
   "source": [
    "nine"
   ]
  },
  {
   "cell_type": "code",
   "execution_count": 13,
   "id": "7e53c9ab",
   "metadata": {},
   "outputs": [],
   "source": [
    "eight = x[-2 ] # igual a 9 Pythonic', penultimo elemento"
   ]
  },
  {
   "cell_type": "code",
   "execution_count": 14,
   "id": "369f728c",
   "metadata": {},
   "outputs": [
    {
     "data": {
      "text/plain": [
       "8"
      ]
     },
     "execution_count": 14,
     "metadata": {},
     "output_type": "execute_result"
    }
   ],
   "source": [
    "eight"
   ]
  },
  {
   "cell_type": "code",
   "execution_count": 15,
   "id": "8f67d7a2",
   "metadata": {},
   "outputs": [],
   "source": [
    "x[0] = -1 # agora x é [-1, 1, 2, 3, ... 9]"
   ]
  },
  {
   "cell_type": "code",
   "execution_count": 16,
   "id": "10ddbc25",
   "metadata": {},
   "outputs": [
    {
     "data": {
      "text/plain": [
       "[-1, 1, 2, 3, 4, 5, 6, 7, 8, 9]"
      ]
     },
     "execution_count": 16,
     "metadata": {},
     "output_type": "execute_result"
    }
   ],
   "source": [
    "x"
   ]
  },
  {
   "cell_type": "code",
   "execution_count": 17,
   "id": "21c8f723",
   "metadata": {},
   "outputs": [],
   "source": [
    "firt_three = x[:3] # [-1, 1, 2]"
   ]
  },
  {
   "cell_type": "code",
   "execution_count": 18,
   "id": "e01f69dd",
   "metadata": {},
   "outputs": [
    {
     "data": {
      "text/plain": [
       "[-1, 1, 2]"
      ]
     },
     "execution_count": 18,
     "metadata": {},
     "output_type": "execute_result"
    }
   ],
   "source": [
    "firt_three"
   ]
  },
  {
   "cell_type": "code",
   "execution_count": 19,
   "id": "28e403e1",
   "metadata": {},
   "outputs": [],
   "source": [
    "three_to_end = x[3:] # [3, 4, 5....]"
   ]
  },
  {
   "cell_type": "code",
   "execution_count": 20,
   "id": "ab16838f",
   "metadata": {},
   "outputs": [
    {
     "data": {
      "text/plain": [
       "[3, 4, 5, 6, 7, 8, 9]"
      ]
     },
     "execution_count": 20,
     "metadata": {},
     "output_type": "execute_result"
    }
   ],
   "source": [
    "three_to_end"
   ]
  },
  {
   "cell_type": "code",
   "execution_count": 21,
   "id": "bd29281b",
   "metadata": {},
   "outputs": [],
   "source": [
    "one_to_four = x[1:5]"
   ]
  },
  {
   "cell_type": "code",
   "execution_count": 22,
   "id": "fd18f9ee",
   "metadata": {},
   "outputs": [
    {
     "data": {
      "text/plain": [
       "[1, 2, 3, 4]"
      ]
     },
     "execution_count": 22,
     "metadata": {},
     "output_type": "execute_result"
    }
   ],
   "source": [
    "one_to_four"
   ]
  },
  {
   "cell_type": "code",
   "execution_count": 23,
   "id": "a4c92d3c",
   "metadata": {},
   "outputs": [],
   "source": [
    "last_three = x[-3:]"
   ]
  },
  {
   "cell_type": "code",
   "execution_count": 24,
   "id": "f308044a",
   "metadata": {},
   "outputs": [
    {
     "data": {
      "text/plain": [
       "[7, 8, 9]"
      ]
     },
     "execution_count": 24,
     "metadata": {},
     "output_type": "execute_result"
    }
   ],
   "source": [
    "last_three"
   ]
  },
  {
   "cell_type": "code",
   "execution_count": 25,
   "id": "af239b1c",
   "metadata": {},
   "outputs": [],
   "source": [
    "without_firt_and_last = x[1:-1]"
   ]
  },
  {
   "cell_type": "code",
   "execution_count": 26,
   "id": "3173b09f",
   "metadata": {},
   "outputs": [
    {
     "data": {
      "text/plain": [
       "[1, 2, 3, 4, 5, 6, 7, 8]"
      ]
     },
     "execution_count": 26,
     "metadata": {},
     "output_type": "execute_result"
    }
   ],
   "source": [
    "without_firt_and_last"
   ]
  },
  {
   "cell_type": "code",
   "execution_count": 27,
   "id": "48ee3450",
   "metadata": {},
   "outputs": [],
   "source": [
    "copy_of_x = x[:]"
   ]
  },
  {
   "cell_type": "code",
   "execution_count": 28,
   "id": "68ebbc7c",
   "metadata": {},
   "outputs": [
    {
     "data": {
      "text/plain": [
       "[-1, 1, 2, 3, 4, 5, 6, 7, 8, 9]"
      ]
     },
     "execution_count": 28,
     "metadata": {},
     "output_type": "execute_result"
    }
   ],
   "source": [
    "copy_of_x"
   ]
  },
  {
   "cell_type": "code",
   "execution_count": 29,
   "id": "89be754e",
   "metadata": {},
   "outputs": [],
   "source": [
    "every_thrid = x[::3]"
   ]
  },
  {
   "cell_type": "code",
   "execution_count": 30,
   "id": "d1704079",
   "metadata": {},
   "outputs": [
    {
     "data": {
      "text/plain": [
       "[-1, 3, 6, 9]"
      ]
     },
     "execution_count": 30,
     "metadata": {},
     "output_type": "execute_result"
    }
   ],
   "source": [
    "every_thrid"
   ]
  },
  {
   "cell_type": "code",
   "execution_count": 31,
   "id": "d6ebfc2f",
   "metadata": {},
   "outputs": [],
   "source": [
    "five_to_tree = x[5:2:-1]"
   ]
  },
  {
   "cell_type": "code",
   "execution_count": 32,
   "id": "36705471",
   "metadata": {},
   "outputs": [
    {
     "data": {
      "text/plain": [
       "[5, 4, 3]"
      ]
     },
     "execution_count": 32,
     "metadata": {},
     "output_type": "execute_result"
    }
   ],
   "source": [
    "five_to_tree"
   ]
  },
  {
   "cell_type": "code",
   "execution_count": 33,
   "id": "c7c6367f",
   "metadata": {},
   "outputs": [
    {
     "data": {
      "text/plain": [
       "True"
      ]
     },
     "execution_count": 33,
     "metadata": {},
     "output_type": "execute_result"
    }
   ],
   "source": [
    "1 in x"
   ]
  },
  {
   "cell_type": "code",
   "execution_count": 34,
   "id": "34683716",
   "metadata": {},
   "outputs": [
    {
     "data": {
      "text/plain": [
       "False"
      ]
     },
     "execution_count": 34,
     "metadata": {},
     "output_type": "execute_result"
    }
   ],
   "source": [
    "-2 in x"
   ]
  },
  {
   "cell_type": "code",
   "execution_count": 35,
   "id": "5e467e01",
   "metadata": {},
   "outputs": [],
   "source": [
    "x = [1, 2, 3]"
   ]
  },
  {
   "cell_type": "code",
   "execution_count": 36,
   "id": "9cb623ba",
   "metadata": {},
   "outputs": [],
   "source": [
    "x.extend([4, 5, 6])"
   ]
  },
  {
   "cell_type": "code",
   "execution_count": 37,
   "id": "aca11ab0",
   "metadata": {},
   "outputs": [
    {
     "data": {
      "text/plain": [
       "[1, 2, 3, 4, 5, 6]"
      ]
     },
     "execution_count": 37,
     "metadata": {},
     "output_type": "execute_result"
    }
   ],
   "source": [
    "x"
   ]
  },
  {
   "cell_type": "code",
   "execution_count": 38,
   "id": "a44c5efb",
   "metadata": {},
   "outputs": [],
   "source": [
    "x = [1, 2, 3]"
   ]
  },
  {
   "cell_type": "code",
   "execution_count": 39,
   "id": "de5bf183",
   "metadata": {},
   "outputs": [],
   "source": [
    "y = x + [4, 5, 6]"
   ]
  },
  {
   "cell_type": "code",
   "execution_count": 40,
   "id": "a85191c5",
   "metadata": {},
   "outputs": [
    {
     "data": {
      "text/plain": [
       "[1, 2, 3, 4, 5, 6]"
      ]
     },
     "execution_count": 40,
     "metadata": {},
     "output_type": "execute_result"
    }
   ],
   "source": [
    "y"
   ]
  },
  {
   "cell_type": "code",
   "execution_count": 41,
   "id": "a53601f3",
   "metadata": {},
   "outputs": [],
   "source": [
    "x = [1, 2, 3]"
   ]
  },
  {
   "cell_type": "code",
   "execution_count": 42,
   "id": "c32908dc",
   "metadata": {},
   "outputs": [],
   "source": [
    "x.append(0)"
   ]
  },
  {
   "cell_type": "code",
   "execution_count": 43,
   "id": "90e60298",
   "metadata": {},
   "outputs": [
    {
     "data": {
      "text/plain": [
       "[1, 2, 3, 0]"
      ]
     },
     "execution_count": 43,
     "metadata": {},
     "output_type": "execute_result"
    }
   ],
   "source": [
    "x"
   ]
  },
  {
   "cell_type": "code",
   "execution_count": 44,
   "id": "efc53e16",
   "metadata": {},
   "outputs": [],
   "source": [
    "y = x[-1]"
   ]
  },
  {
   "cell_type": "code",
   "execution_count": 45,
   "id": "e13ec209",
   "metadata": {},
   "outputs": [
    {
     "data": {
      "text/plain": [
       "0"
      ]
     },
     "execution_count": 45,
     "metadata": {},
     "output_type": "execute_result"
    }
   ],
   "source": [
    "y"
   ]
  },
  {
   "cell_type": "code",
   "execution_count": 46,
   "id": "c8aefc53",
   "metadata": {},
   "outputs": [],
   "source": [
    "z = len(x)"
   ]
  },
  {
   "cell_type": "code",
   "execution_count": 47,
   "id": "bd856fe3",
   "metadata": {},
   "outputs": [
    {
     "data": {
      "text/plain": [
       "4"
      ]
     },
     "execution_count": 47,
     "metadata": {},
     "output_type": "execute_result"
    }
   ],
   "source": [
    "z"
   ]
  },
  {
   "cell_type": "code",
   "execution_count": 48,
   "id": "e9b8fb24",
   "metadata": {},
   "outputs": [],
   "source": [
    "x, y = [1, 2]"
   ]
  },
  {
   "cell_type": "code",
   "execution_count": 49,
   "id": "3b846545",
   "metadata": {},
   "outputs": [
    {
     "data": {
      "text/plain": [
       "1"
      ]
     },
     "execution_count": 49,
     "metadata": {},
     "output_type": "execute_result"
    }
   ],
   "source": [
    "x"
   ]
  },
  {
   "cell_type": "code",
   "execution_count": 50,
   "id": "9ae5e2d5",
   "metadata": {},
   "outputs": [
    {
     "data": {
      "text/plain": [
       "2"
      ]
     },
     "execution_count": 50,
     "metadata": {},
     "output_type": "execute_result"
    }
   ],
   "source": [
    "y"
   ]
  },
  {
   "cell_type": "code",
   "execution_count": 51,
   "id": "b1a074d8",
   "metadata": {},
   "outputs": [],
   "source": [
    "_, y = [1, 2]"
   ]
  },
  {
   "cell_type": "code",
   "execution_count": 52,
   "id": "69a2217a",
   "metadata": {},
   "outputs": [
    {
     "data": {
      "text/plain": [
       "1"
      ]
     },
     "execution_count": 52,
     "metadata": {},
     "output_type": "execute_result"
    }
   ],
   "source": [
    "_"
   ]
  },
  {
   "cell_type": "code",
   "execution_count": 53,
   "id": "42dedd42",
   "metadata": {},
   "outputs": [
    {
     "data": {
      "text/plain": [
       "2"
      ]
     },
     "execution_count": 53,
     "metadata": {},
     "output_type": "execute_result"
    }
   ],
   "source": [
    "y"
   ]
  },
  {
   "cell_type": "code",
   "execution_count": null,
   "id": "0e5a3a1c",
   "metadata": {},
   "outputs": [],
   "source": []
  }
 ],
 "metadata": {
  "kernelspec": {
   "display_name": "Python 3 (ipykernel)",
   "language": "python",
   "name": "python3"
  },
  "language_info": {
   "codemirror_mode": {
    "name": "ipython",
    "version": 3
   },
   "file_extension": ".py",
   "mimetype": "text/x-python",
   "name": "python",
   "nbconvert_exporter": "python",
   "pygments_lexer": "ipython3",
   "version": "3.9.12"
  }
 },
 "nbformat": 4,
 "nbformat_minor": 5
}
