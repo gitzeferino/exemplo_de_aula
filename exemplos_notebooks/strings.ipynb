{
 "cells": [
  {
   "cell_type": "code",
   "execution_count": 1,
   "id": "5d13c60c",
   "metadata": {},
   "outputs": [
    {
     "data": {
      "text/plain": [
       "1"
      ]
     },
     "execution_count": 1,
     "metadata": {},
     "output_type": "execute_result"
    }
   ],
   "source": [
    "tab_string = '\\t' # representa o caracter tab\n",
    "len(tab_string) # é 1"
   ]
  },
  {
   "cell_type": "code",
   "execution_count": 3,
   "id": "364e18fd",
   "metadata": {},
   "outputs": [
    {
     "data": {
      "text/plain": [
       "2"
      ]
     },
     "execution_count": 3,
     "metadata": {},
     "output_type": "execute_result"
    }
   ],
   "source": [
    "not_tab_string = r'\\t' # representa os caracteres '\\' e 't'\n",
    "len(not_tab_string) # é 2"
   ]
  },
  {
   "cell_type": "code",
   "execution_count": 4,
   "id": "401d8878",
   "metadata": {},
   "outputs": [],
   "source": [
    "multi_line_string = \"\"\"esta é a primeira linha\n",
    "e esta é a segunda linha\n",
    "e esta é a terceira linha\"\"\""
   ]
  },
  {
   "cell_type": "code",
   "execution_count": 5,
   "id": "3ef5c2bb",
   "metadata": {},
   "outputs": [
    {
     "data": {
      "text/plain": [
       "'esta é a primeira linha\\ne esta é a segunda linha\\ne esta é a terceira linha'"
      ]
     },
     "execution_count": 5,
     "metadata": {},
     "output_type": "execute_result"
    }
   ],
   "source": [
    "multi_line_string"
   ]
  },
  {
   "cell_type": "code",
   "execution_count": 6,
   "id": "4936d888",
   "metadata": {},
   "outputs": [],
   "source": [
    "firt_name = \"André\"\n",
    "last_name = \"Zeferino\""
   ]
  },
  {
   "cell_type": "code",
   "execution_count": 7,
   "id": "99c31a37",
   "metadata": {},
   "outputs": [],
   "source": [
    "full_name1 = firt_name + \" \" + last_name # adição de strings"
   ]
  },
  {
   "cell_type": "code",
   "execution_count": 8,
   "id": "3880bf09",
   "metadata": {},
   "outputs": [
    {
     "data": {
      "text/plain": [
       "'André Zeferino'"
      ]
     },
     "execution_count": 8,
     "metadata": {},
     "output_type": "execute_result"
    }
   ],
   "source": [
    "full_name1"
   ]
  },
  {
   "cell_type": "code",
   "execution_count": 11,
   "id": "3f1a4607",
   "metadata": {},
   "outputs": [],
   "source": [
    "full_name2 = \"{0} {1}\".format(firt_name, last_name) # string.format"
   ]
  },
  {
   "cell_type": "code",
   "execution_count": 12,
   "id": "8a3d32ab",
   "metadata": {},
   "outputs": [
    {
     "data": {
      "text/plain": [
       "'André Zeferino'"
      ]
     },
     "execution_count": 12,
     "metadata": {},
     "output_type": "execute_result"
    }
   ],
   "source": [
    "full_name2"
   ]
  },
  {
   "cell_type": "code",
   "execution_count": 14,
   "id": "063bd234",
   "metadata": {},
   "outputs": [],
   "source": [
    "full_name3 = f\"{firt_name} {last_name}\""
   ]
  },
  {
   "cell_type": "code",
   "execution_count": 15,
   "id": "4d4c70f4",
   "metadata": {},
   "outputs": [
    {
     "data": {
      "text/plain": [
       "'André Zeferino'"
      ]
     },
     "execution_count": 15,
     "metadata": {},
     "output_type": "execute_result"
    }
   ],
   "source": [
    "full_name3"
   ]
  },
  {
   "cell_type": "code",
   "execution_count": null,
   "id": "f1cb2d1d",
   "metadata": {},
   "outputs": [],
   "source": []
  }
 ],
 "metadata": {
  "kernelspec": {
   "display_name": "Python 3 (ipykernel)",
   "language": "python",
   "name": "python3"
  },
  "language_info": {
   "codemirror_mode": {
    "name": "ipython",
    "version": 3
   },
   "file_extension": ".py",
   "mimetype": "text/x-python",
   "name": "python",
   "nbconvert_exporter": "python",
   "pygments_lexer": "ipython3",
   "version": "3.9.12"
  }
 },
 "nbformat": 4,
 "nbformat_minor": 5
}
