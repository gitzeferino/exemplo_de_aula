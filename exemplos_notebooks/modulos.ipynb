{
 "cells": [
  {
   "cell_type": "code",
   "execution_count": 1,
   "id": "c6ec8d04",
   "metadata": {},
   "outputs": [],
   "source": [
    "import re"
   ]
  },
  {
   "cell_type": "code",
   "execution_count": 2,
   "id": "e1ac50dc",
   "metadata": {},
   "outputs": [],
   "source": [
    "my_regex = re.compile('[0-9]+', re.I)"
   ]
  },
  {
   "cell_type": "markdown",
   "id": "15271582",
   "metadata": {},
   "source": [
    "#####################"
   ]
  },
  {
   "cell_type": "code",
   "execution_count": 3,
   "id": "d45a7f2b",
   "metadata": {},
   "outputs": [],
   "source": [
    "from collections import defaultdict, Counter"
   ]
  },
  {
   "cell_type": "code",
   "execution_count": 4,
   "id": "e132b048",
   "metadata": {},
   "outputs": [],
   "source": [
    "lookup = defaultdict(int)"
   ]
  },
  {
   "cell_type": "code",
   "execution_count": 5,
   "id": "509bf925",
   "metadata": {},
   "outputs": [],
   "source": [
    "my_counter = Counter()"
   ]
  },
  {
   "cell_type": "code",
   "execution_count": 6,
   "id": "2b2bc217",
   "metadata": {},
   "outputs": [
    {
     "data": {
      "text/plain": [
       "defaultdict(int, {})"
      ]
     },
     "execution_count": 6,
     "metadata": {},
     "output_type": "execute_result"
    }
   ],
   "source": [
    "lookup"
   ]
  },
  {
   "cell_type": "code",
   "execution_count": 7,
   "id": "7b06008e",
   "metadata": {},
   "outputs": [
    {
     "data": {
      "text/plain": [
       "Counter()"
      ]
     },
     "execution_count": 7,
     "metadata": {},
     "output_type": "execute_result"
    }
   ],
   "source": [
    "my_counter"
   ]
  },
  {
   "cell_type": "code",
   "execution_count": null,
   "id": "e4cd26d3",
   "metadata": {},
   "outputs": [],
   "source": []
  }
 ],
 "metadata": {
  "kernelspec": {
   "display_name": "Python 3 (ipykernel)",
   "language": "python",
   "name": "python3"
  },
  "language_info": {
   "codemirror_mode": {
    "name": "ipython",
    "version": 3
   },
   "file_extension": ".py",
   "mimetype": "text/x-python",
   "name": "python",
   "nbconvert_exporter": "python",
   "pygments_lexer": "ipython3",
   "version": "3.10.6"
  }
 },
 "nbformat": 4,
 "nbformat_minor": 5
}
