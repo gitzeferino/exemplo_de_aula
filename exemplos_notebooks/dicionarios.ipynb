{
 "cells": [
  {
   "cell_type": "code",
   "execution_count": 1,
   "id": "f09d366b",
   "metadata": {},
   "outputs": [],
   "source": [
    "empty_dict = {} # Pythonic"
   ]
  },
  {
   "cell_type": "code",
   "execution_count": 2,
   "id": "777d3b10",
   "metadata": {},
   "outputs": [
    {
     "data": {
      "text/plain": [
       "{}"
      ]
     },
     "execution_count": 2,
     "metadata": {},
     "output_type": "execute_result"
    }
   ],
   "source": [
    "empty_dict"
   ]
  },
  {
   "cell_type": "code",
   "execution_count": 3,
   "id": "ef8c111b",
   "metadata": {},
   "outputs": [
    {
     "data": {
      "text/plain": [
       "dict"
      ]
     },
     "execution_count": 3,
     "metadata": {},
     "output_type": "execute_result"
    }
   ],
   "source": [
    "type(empty_dict)"
   ]
  },
  {
   "cell_type": "code",
   "execution_count": 4,
   "id": "433046e0",
   "metadata": {},
   "outputs": [],
   "source": [
    "empty_dict2 = dict() # Menos Pythonic"
   ]
  },
  {
   "cell_type": "code",
   "execution_count": 5,
   "id": "84703391",
   "metadata": {},
   "outputs": [
    {
     "data": {
      "text/plain": [
       "{}"
      ]
     },
     "execution_count": 5,
     "metadata": {},
     "output_type": "execute_result"
    }
   ],
   "source": [
    "empty_dict2"
   ]
  },
  {
   "cell_type": "code",
   "execution_count": 6,
   "id": "e29087a2",
   "metadata": {},
   "outputs": [],
   "source": [
    "grades = {\"Joel\": 80, \"Tim\": 95} # Dicionário Literal"
   ]
  },
  {
   "cell_type": "code",
   "execution_count": 7,
   "id": "f19f8891",
   "metadata": {},
   "outputs": [
    {
     "data": {
      "text/plain": [
       "{'Joel': 80, 'Tim': 95}"
      ]
     },
     "execution_count": 7,
     "metadata": {},
     "output_type": "execute_result"
    }
   ],
   "source": [
    "grades"
   ]
  },
  {
   "cell_type": "code",
   "execution_count": 8,
   "id": "48164eed",
   "metadata": {},
   "outputs": [
    {
     "name": "stdout",
     "output_type": "stream",
     "text": [
      "Não existem notas para Kate!\n"
     ]
    }
   ],
   "source": [
    "try:\n",
    "    kates_grades = grades[\"Kate\"]\n",
    "except KeyError:\n",
    "    print('Não existem notas para Kate!')"
   ]
  },
  {
   "cell_type": "code",
   "execution_count": 9,
   "id": "43b80ea1",
   "metadata": {},
   "outputs": [],
   "source": [
    "joel_has_grade = \"Joel\" in grades # Verdadeiro"
   ]
  },
  {
   "cell_type": "code",
   "execution_count": 10,
   "id": "ab9c6cb3",
   "metadata": {},
   "outputs": [
    {
     "data": {
      "text/plain": [
       "True"
      ]
     },
     "execution_count": 10,
     "metadata": {},
     "output_type": "execute_result"
    }
   ],
   "source": [
    "joel_has_grade"
   ]
  },
  {
   "cell_type": "code",
   "execution_count": 11,
   "id": "0915d03b",
   "metadata": {},
   "outputs": [],
   "source": [
    "kate_has_grade = \"Kate\" in grades # Falso"
   ]
  },
  {
   "cell_type": "code",
   "execution_count": 12,
   "id": "97568cab",
   "metadata": {},
   "outputs": [
    {
     "data": {
      "text/plain": [
       "False"
      ]
     },
     "execution_count": 12,
     "metadata": {},
     "output_type": "execute_result"
    }
   ],
   "source": [
    "kate_has_grade"
   ]
  },
  {
   "cell_type": "code",
   "execution_count": 13,
   "id": "d955b00d",
   "metadata": {},
   "outputs": [],
   "source": [
    "joels_grade = grades.get(\"Joel\", 0) # Igual a 80"
   ]
  },
  {
   "cell_type": "code",
   "execution_count": 14,
   "id": "e12ba288",
   "metadata": {},
   "outputs": [
    {
     "data": {
      "text/plain": [
       "80"
      ]
     },
     "execution_count": 14,
     "metadata": {},
     "output_type": "execute_result"
    }
   ],
   "source": [
    "joels_grade"
   ]
  },
  {
   "cell_type": "code",
   "execution_count": 15,
   "id": "789a7c32",
   "metadata": {},
   "outputs": [],
   "source": [
    "kates_grade = grades.get(\"Kate\", 0) # Igual a 0"
   ]
  },
  {
   "cell_type": "code",
   "execution_count": 16,
   "id": "90075e52",
   "metadata": {},
   "outputs": [
    {
     "data": {
      "text/plain": [
       "0"
      ]
     },
     "execution_count": 16,
     "metadata": {},
     "output_type": "execute_result"
    }
   ],
   "source": [
    "kates_grade"
   ]
  },
  {
   "cell_type": "code",
   "execution_count": 17,
   "id": "739ec97c",
   "metadata": {},
   "outputs": [],
   "source": [
    "no_one_grade = grades.get(\"No One\") # O padrão é None"
   ]
  },
  {
   "cell_type": "code",
   "execution_count": 18,
   "id": "e6dd860e",
   "metadata": {},
   "outputs": [],
   "source": [
    "no_one_grade"
   ]
  },
  {
   "cell_type": "code",
   "execution_count": 19,
   "id": "80c09e94",
   "metadata": {},
   "outputs": [],
   "source": [
    "grades[\"Tim\"] = 99 # substitui o valor anterior"
   ]
  },
  {
   "cell_type": "code",
   "execution_count": 20,
   "id": "89dd5e50",
   "metadata": {},
   "outputs": [
    {
     "data": {
      "text/plain": [
       "{'Joel': 80, 'Tim': 99}"
      ]
     },
     "execution_count": 20,
     "metadata": {},
     "output_type": "execute_result"
    }
   ],
   "source": [
    "grades"
   ]
  },
  {
   "cell_type": "code",
   "execution_count": 21,
   "id": "e88774b3",
   "metadata": {},
   "outputs": [],
   "source": [
    "grades[\"Kate\"] = 100 # adiciona uma terceira entrada"
   ]
  },
  {
   "cell_type": "code",
   "execution_count": 22,
   "id": "c5d99a47",
   "metadata": {},
   "outputs": [
    {
     "data": {
      "text/plain": [
       "{'Joel': 80, 'Tim': 99, 'Kate': 100}"
      ]
     },
     "execution_count": 22,
     "metadata": {},
     "output_type": "execute_result"
    }
   ],
   "source": [
    "grades"
   ]
  },
  {
   "cell_type": "code",
   "execution_count": 23,
   "id": "72c4f51b",
   "metadata": {},
   "outputs": [],
   "source": [
    "tweet = {\n",
    "    \"user\": \"joelgrus\",\n",
    "    \"text\": \"Data Science\",\n",
    "    \"retweet_count\": 100,\n",
    "    \"hashtags\": [\"#data, # science, #datascience, #awesome, #yolo\"]\n",
    "}"
   ]
  },
  {
   "cell_type": "code",
   "execution_count": 24,
   "id": "13b8c244",
   "metadata": {},
   "outputs": [
    {
     "data": {
      "text/plain": [
       "{'user': 'joelgrus',\n",
       " 'text': 'Data Science',\n",
       " 'retweet_count': 100,\n",
       " 'hashtags': ['#data, # science, #datascience, #awesome, #yolo']}"
      ]
     },
     "execution_count": 24,
     "metadata": {},
     "output_type": "execute_result"
    }
   ],
   "source": [
    "tweet"
   ]
  },
  {
   "cell_type": "code",
   "execution_count": 25,
   "id": "6c729e6c",
   "metadata": {},
   "outputs": [],
   "source": [
    "tweet_keys = tweet.keys() # iterável para as chaves"
   ]
  },
  {
   "cell_type": "code",
   "execution_count": 26,
   "id": "60c60ccc",
   "metadata": {},
   "outputs": [
    {
     "data": {
      "text/plain": [
       "dict_keys(['user', 'text', 'retweet_count', 'hashtags'])"
      ]
     },
     "execution_count": 26,
     "metadata": {},
     "output_type": "execute_result"
    }
   ],
   "source": [
    "tweet_keys"
   ]
  },
  {
   "cell_type": "code",
   "execution_count": 27,
   "id": "2a2a23ef",
   "metadata": {},
   "outputs": [],
   "source": [
    "tweet_values = tweet.values() # iterável para os valores"
   ]
  },
  {
   "cell_type": "code",
   "execution_count": 28,
   "id": "fee81e7b",
   "metadata": {},
   "outputs": [
    {
     "data": {
      "text/plain": [
       "dict_values(['joelgrus', 'Data Science', 100, ['#data, # science, #datascience, #awesome, #yolo']])"
      ]
     },
     "execution_count": 28,
     "metadata": {},
     "output_type": "execute_result"
    }
   ],
   "source": [
    "tweet_values"
   ]
  },
  {
   "cell_type": "code",
   "execution_count": 29,
   "id": "b7b2ad3e",
   "metadata": {},
   "outputs": [],
   "source": [
    "tweet_items = tweet.items() # iterável para tuplas (chave, valor)"
   ]
  },
  {
   "cell_type": "code",
   "execution_count": 30,
   "id": "118cc1c5",
   "metadata": {},
   "outputs": [
    {
     "data": {
      "text/plain": [
       "dict_items([('user', 'joelgrus'), ('text', 'Data Science'), ('retweet_count', 100), ('hashtags', ['#data, # science, #datascience, #awesome, #yolo'])])"
      ]
     },
     "execution_count": 30,
     "metadata": {},
     "output_type": "execute_result"
    }
   ],
   "source": [
    "tweet_items"
   ]
  },
  {
   "cell_type": "code",
   "execution_count": 31,
   "id": "923d07db",
   "metadata": {},
   "outputs": [
    {
     "data": {
      "text/plain": [
       "True"
      ]
     },
     "execution_count": 31,
     "metadata": {},
     "output_type": "execute_result"
    }
   ],
   "source": [
    "\"user\" in tweet_keys # verdadeiro, mas não é Pythonic"
   ]
  },
  {
   "cell_type": "code",
   "execution_count": 32,
   "id": "a70e2bbf",
   "metadata": {},
   "outputs": [
    {
     "data": {
      "text/plain": [
       "True"
      ]
     },
     "execution_count": 32,
     "metadata": {},
     "output_type": "execute_result"
    }
   ],
   "source": [
    "\"user\" in tweet # forma Pythonic de verificar as chaves"
   ]
  },
  {
   "cell_type": "code",
   "execution_count": 33,
   "id": "048317f4",
   "metadata": {},
   "outputs": [
    {
     "data": {
      "text/plain": [
       "True"
      ]
     },
     "execution_count": 33,
     "metadata": {},
     "output_type": "execute_result"
    }
   ],
   "source": [
    "\"joelgrus\" in tweet_values # verdadeiro (lento, mas a única forma de verificar)"
   ]
  }
 ],
 "metadata": {
  "kernelspec": {
   "display_name": "Python 3 (ipykernel)",
   "language": "python",
   "name": "python3"
  },
  "language_info": {
   "codemirror_mode": {
    "name": "ipython",
    "version": 3
   },
   "file_extension": ".py",
   "mimetype": "text/x-python",
   "name": "python",
   "nbconvert_exporter": "python",
   "pygments_lexer": "ipython3",
   "version": "3.9.12"
  }
 },
 "nbformat": 4,
 "nbformat_minor": 5
}
