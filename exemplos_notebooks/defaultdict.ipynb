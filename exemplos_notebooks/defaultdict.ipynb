{
 "cells": [
  {
   "cell_type": "code",
   "execution_count": 5,
   "id": "f17d7433",
   "metadata": {},
   "outputs": [],
   "source": [
    "document = ['André', 'Sofia']\n",
    "word_counts = {}\n",
    "for word in document:\n",
    "    if word in word_counts:\n",
    "        word_counts[word] += 1\n",
    "    else:\n",
    "        word_counts[word] = 1"
   ]
  },
  {
   "cell_type": "code",
   "execution_count": 6,
   "id": "54dfabfe",
   "metadata": {},
   "outputs": [
    {
     "data": {
      "text/plain": [
       "{'André': 1, 'Sofia': 1}"
      ]
     },
     "execution_count": 6,
     "metadata": {},
     "output_type": "execute_result"
    }
   ],
   "source": [
    "word_counts"
   ]
  },
  {
   "cell_type": "code",
   "execution_count": 7,
   "id": "8a0ccc04",
   "metadata": {},
   "outputs": [],
   "source": [
    "document = ['André', 'Ingrid']\n",
    "word_counts = {}\n",
    "for word in document:\n",
    "    try:\n",
    "        word_counts[word] += 1\n",
    "    except KeyError:\n",
    "        word_counts[word] = 1"
   ]
  },
  {
   "cell_type": "code",
   "execution_count": 8,
   "id": "060c543a",
   "metadata": {},
   "outputs": [
    {
     "data": {
      "text/plain": [
       "{'André': 1, 'Ingrid': 1}"
      ]
     },
     "execution_count": 8,
     "metadata": {},
     "output_type": "execute_result"
    }
   ],
   "source": [
    "word_counts"
   ]
  },
  {
   "cell_type": "code",
   "execution_count": 9,
   "id": "5c5d9363",
   "metadata": {},
   "outputs": [],
   "source": [
    "document = ['André', 'Luisa']\n",
    "word_counts = {}\n",
    "for word in document:\n",
    "    previous_count = word_counts.get(word, 0)\n",
    "    word_counts[word] = previous_count + 1"
   ]
  },
  {
   "cell_type": "code",
   "execution_count": 10,
   "id": "35ebc204",
   "metadata": {},
   "outputs": [
    {
     "data": {
      "text/plain": [
       "{'André': 1, 'Luisa': 1}"
      ]
     },
     "execution_count": 10,
     "metadata": {},
     "output_type": "execute_result"
    }
   ],
   "source": [
    "word_counts"
   ]
  },
  {
   "cell_type": "code",
   "execution_count": 11,
   "id": "1ec2272e",
   "metadata": {},
   "outputs": [],
   "source": [
    "from collections import defaultdict\n",
    "\n",
    "word_counts = defaultdict(int) # int produz 0\n",
    "for word in document:\n",
    "    word_counts[word] += 1"
   ]
  },
  {
   "cell_type": "code",
   "execution_count": 12,
   "id": "cc5adc38",
   "metadata": {},
   "outputs": [
    {
     "data": {
      "text/plain": [
       "defaultdict(int, {'André': 1, 'Luisa': 1})"
      ]
     },
     "execution_count": 12,
     "metadata": {},
     "output_type": "execute_result"
    }
   ],
   "source": [
    "word_counts"
   ]
  },
  {
   "cell_type": "code",
   "execution_count": 13,
   "id": "767edb33",
   "metadata": {},
   "outputs": [],
   "source": [
    "dd_list = defaultdict(list) # produz uma lista vazia\n",
    "dd_list[2].append(1) # agora dd_list contém {2:[1]}"
   ]
  },
  {
   "cell_type": "code",
   "execution_count": 14,
   "id": "5757459a",
   "metadata": {},
   "outputs": [
    {
     "data": {
      "text/plain": [
       "defaultdict(list, {2: [1]})"
      ]
     },
     "execution_count": 14,
     "metadata": {},
     "output_type": "execute_result"
    }
   ],
   "source": [
    "dd_list"
   ]
  },
  {
   "cell_type": "code",
   "execution_count": 15,
   "id": "74b86dfa",
   "metadata": {},
   "outputs": [],
   "source": [
    "dd_dict = defaultdict(dict) # produz um dicionário vazio\n",
    "dd_dict[\"Joel\"][\"City\"] = \"Seattle\" # {\"Joel\": {\"City\": \"Seattle\"}}"
   ]
  },
  {
   "cell_type": "code",
   "execution_count": 16,
   "id": "2ec124c8",
   "metadata": {},
   "outputs": [
    {
     "data": {
      "text/plain": [
       "defaultdict(dict, {'Joel': {'City': 'Seattle'}})"
      ]
     },
     "execution_count": 16,
     "metadata": {},
     "output_type": "execute_result"
    }
   ],
   "source": [
    "dd_dict"
   ]
  },
  {
   "cell_type": "code",
   "execution_count": 17,
   "id": "caff154d",
   "metadata": {},
   "outputs": [],
   "source": [
    "dd_pair = defaultdict(lambda :[0,0])\n",
    "dd_pair[2][1] = 1 # agora dd_pair contém{2:[0, 1]}"
   ]
  },
  {
   "cell_type": "code",
   "execution_count": 18,
   "id": "70028040",
   "metadata": {},
   "outputs": [
    {
     "data": {
      "text/plain": [
       "defaultdict(<function __main__.<lambda>()>, {2: [0, 1]})"
      ]
     },
     "execution_count": 18,
     "metadata": {},
     "output_type": "execute_result"
    }
   ],
   "source": [
    "dd_pair"
   ]
  },
  {
   "cell_type": "code",
   "execution_count": null,
   "id": "9d7ddd6e",
   "metadata": {},
   "outputs": [],
   "source": []
  }
 ],
 "metadata": {
  "kernelspec": {
   "display_name": "Python 3 (ipykernel)",
   "language": "python",
   "name": "python3"
  },
  "language_info": {
   "codemirror_mode": {
    "name": "ipython",
    "version": 3
   },
   "file_extension": ".py",
   "mimetype": "text/x-python",
   "name": "python",
   "nbconvert_exporter": "python",
   "pygments_lexer": "ipython3",
   "version": "3.9.12"
  }
 },
 "nbformat": 4,
 "nbformat_minor": 5
}
