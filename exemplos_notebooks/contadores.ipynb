{
 "cells": [
  {
   "cell_type": "code",
   "execution_count": 1,
   "id": "f3e6d6b3",
   "metadata": {},
   "outputs": [],
   "source": [
    "from collections import Counter"
   ]
  },
  {
   "cell_type": "code",
   "execution_count": 2,
   "id": "a8416c66",
   "metadata": {},
   "outputs": [],
   "source": [
    "c = Counter([0, 1, 2, 0]) # c é basicamente {0: 2, 1: 1, 2 : 1}"
   ]
  },
  {
   "cell_type": "code",
   "execution_count": 3,
   "id": "0cefa352",
   "metadata": {},
   "outputs": [
    {
     "data": {
      "text/plain": [
       "Counter({0: 2, 1: 1, 2: 1})"
      ]
     },
     "execution_count": 3,
     "metadata": {},
     "output_type": "execute_result"
    }
   ],
   "source": [
    "c"
   ]
  },
  {
   "cell_type": "code",
   "execution_count": 4,
   "id": "073755fc",
   "metadata": {},
   "outputs": [],
   "source": [
    "# Lembre-se, o documento é uma lista de palavras\n",
    "document = open('documento.docx', 'r')"
   ]
  },
  {
   "cell_type": "code",
   "execution_count": 5,
   "id": "e912d48d",
   "metadata": {},
   "outputs": [],
   "source": [
    "word_counts = Counter(document)"
   ]
  },
  {
   "cell_type": "code",
   "execution_count": 6,
   "id": "ba046ad3",
   "metadata": {},
   "outputs": [
    {
     "data": {
      "text/plain": [
       "Counter({'O Python Ã© uma linguagem de programaÃ§Ã£o, como vocÃª jÃ¡ deve ter ouvido falar de vÃ¡rias outras que existem.\\n': 1,\n",
       "         '\\n': 8,\n",
       "         'SÃ³ que foi desenvolvido para ser simples, fÃ¡cil de aprender e muito versÃ¡til, ou seja, vocÃª vai poder utilizar essa linguagem para diversas tarefas.\\n': 1,\n",
       "         'Pode construir aplicativos, criar sites, desenvolver programas, criar jogos, fazer anÃ¡lise de dados, inteligÃªncia artificial, entre outras atividades.\\n': 1,\n",
       "         'Ao aprender o que Ã© Python, vocÃª tem muitas opÃ§Ãµes. Como Ã© uma linguagem mais fÃ¡cil de aprender, Ã© excelente para vocÃª comeÃ§ar no mundo da programaÃ§Ã£o.\\n': 1,\n",
       "         'Claro que a programaÃ§Ã£o Python nÃ£o serÃ¡ a Ãºnica que vai aprender, mas jÃ¡ Ã© uma excelente linguagem para iniciar. O sistema Python permite o desenvolvimento e a criaÃ§Ã£o de diversos programas.\\n': 1,\n",
       "         'AlÃ©m disso, Ã© uma das linguagens de programaÃ§Ã£o mais utilizadas no mundo e no Brasil. Ela estÃ¡ em constante crescimento e por consequÃªncia acaba sendo mais valorizada.\\n': 1,\n",
       "         'Quando vocÃª aprende a linguagem Python, o que Ã©, percebe que ela pode ser utilizada em diversas Ã¡reas, o que pode diferenciar de outras linguagens de programaÃ§Ã£o.\\n': 1,\n",
       "         'Outro ponto muito importante Ã© que o mesmo cÃ³digo funciona em Windows, Linux e macOS, sem que sejam necessÃ¡rios ajustes nos cÃ³digos. Mas cuidado! As bibliotecas podem sofrer alguma alteraÃ§Ã£o por conta do sistema operacional.\\n': 1,\n",
       "         'Entendeu o que Ã© e para que serve Python? Percebeu o que pode ser feito em Python? Agora Ã© hora de saber as caracterÃ\\xadsticas do Python.': 1})"
      ]
     },
     "execution_count": 6,
     "metadata": {},
     "output_type": "execute_result"
    }
   ],
   "source": [
    "word_counts"
   ]
  },
  {
   "cell_type": "code",
   "execution_count": 7,
   "id": "0432d833",
   "metadata": {},
   "outputs": [],
   "source": [
    "# Imprima as 10 palavras mais comuns e suas contagens"
   ]
  },
  {
   "cell_type": "code",
   "execution_count": 8,
   "id": "30160ca1",
   "metadata": {},
   "outputs": [
    {
     "name": "stdout",
     "output_type": "stream",
     "text": [
      "\n",
      " 8\n",
      "O Python Ã© uma linguagem de programaÃ§Ã£o, como vocÃª jÃ¡ deve ter ouvido falar de vÃ¡rias outras que existem.\n",
      " 1\n",
      "SÃ³ que foi desenvolvido para ser simples, fÃ¡cil de aprender e muito versÃ¡til, ou seja, vocÃª vai poder utilizar essa linguagem para diversas tarefas.\n",
      " 1\n",
      "Pode construir aplicativos, criar sites, desenvolver programas, criar jogos, fazer anÃ¡lise de dados, inteligÃªncia artificial, entre outras atividades.\n",
      " 1\n",
      "Ao aprender o que Ã© Python, vocÃª tem muitas opÃ§Ãµes. Como Ã© uma linguagem mais fÃ¡cil de aprender, Ã© excelente para vocÃª comeÃ§ar no mundo da programaÃ§Ã£o.\n",
      " 1\n",
      "Claro que a programaÃ§Ã£o Python nÃ£o serÃ¡ a Ãºnica que vai aprender, mas jÃ¡ Ã© uma excelente linguagem para iniciar. O sistema Python permite o desenvolvimento e a criaÃ§Ã£o de diversos programas.\n",
      " 1\n",
      "AlÃ©m disso, Ã© uma das linguagens de programaÃ§Ã£o mais utilizadas no mundo e no Brasil. Ela estÃ¡ em constante crescimento e por consequÃªncia acaba sendo mais valorizada.\n",
      " 1\n",
      "Quando vocÃª aprende a linguagem Python, o que Ã©, percebe que ela pode ser utilizada em diversas Ã¡reas, o que pode diferenciar de outras linguagens de programaÃ§Ã£o.\n",
      " 1\n",
      "Outro ponto muito importante Ã© que o mesmo cÃ³digo funciona em Windows, Linux e macOS, sem que sejam necessÃ¡rios ajustes nos cÃ³digos. Mas cuidado! As bibliotecas podem sofrer alguma alteraÃ§Ã£o por conta do sistema operacional.\n",
      " 1\n",
      "Entendeu o que Ã© e para que serve Python? Percebeu o que pode ser feito em Python? Agora Ã© hora de saber as caracterÃ­sticas do Python. 1\n"
     ]
    }
   ],
   "source": [
    "for word, count in word_counts.most_common(10):\n",
    "    print(word, count)"
   ]
  }
 ],
 "metadata": {
  "kernelspec": {
   "display_name": "Python 3 (ipykernel)",
   "language": "python",
   "name": "python3"
  },
  "language_info": {
   "codemirror_mode": {
    "name": "ipython",
    "version": 3
   },
   "file_extension": ".py",
   "mimetype": "text/x-python",
   "name": "python",
   "nbconvert_exporter": "python",
   "pygments_lexer": "ipython3",
   "version": "3.10.6"
  }
 },
 "nbformat": 4,
 "nbformat_minor": 5
}
